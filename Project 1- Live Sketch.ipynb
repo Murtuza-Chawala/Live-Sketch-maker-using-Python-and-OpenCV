{
 "cells": [
  {
   "cell_type": "markdown",
   "metadata": {},
   "source": [
    "### Algorithm"
   ]
  },
  {
   "cell_type": "code",
   "execution_count": 1,
   "metadata": {},
   "outputs": [],
   "source": [
    "import cv2\n",
    "import numpy as np\n",
    "import imutils\n",
    "import time\n",
    "from imutils.video import VideoStream\n",
    "\n",
    "#Sketch generating function\n",
    "def sketch(image):\n",
    "    #Convert the image to grayscale\n",
    "    img_gray = cv2.cvtColor(image, cv2.COLOR_BGR2GRAY)\n",
    "    \n",
    "    #Cleaning image through Gaussian blur\n",
    "    img_gray_blur = cv2.GaussianBlur(img_gray, (5,5), 0)\n",
    "    \n",
    "    #Using Canny's Edge detection algorithm\n",
    "    canny_edges = cv2.Canny(img_gray_blur, 10, 80)\n",
    "    \n",
    "    #Thresholding through invert binary\n",
    "    #Pixel values below 70 will become white(255) and pixel value above 70 will become 0(Black)\n",
    "    ret, mask = cv2.threshold(canny_edges, 70,255, cv2.THRESH_BINARY_INV)\n",
    "    return mask\n",
    "\n",
    "\n",
    "cap = cv2.VideoCapture(0)\n",
    "#cap = cv2.VideoStream(src=0)\n",
    "time.sleep(2)\n",
    "#ret,frame = cap.read()\n",
    "\n",
    "#print(\"[INFO] starting video stream...\")\n",
    "#cap = VideoStream(src=0).start()\n",
    "#time.sleep(2.0)\n",
    "\n",
    "while True:\n",
    "    #if ret is True:\n",
    "    ret,frame = cap.read()\n",
    "    cv2.imshow('Live Sketcher', sketch(frame))\n",
    "    #cv2.imshow('Video',frame)\n",
    "    if cv2.waitKey(1) == 13: #13 is Enter key\n",
    "        break\n",
    "    #else:\n",
    "     #   print('Webcam is not loading the frames')\n",
    "      #  break\n",
    "\n",
    "cap.release()\n",
    "cv2.destroyAllWindows()\n",
    "    "
   ]
  },
  {
   "cell_type": "code",
   "execution_count": null,
   "metadata": {},
   "outputs": [],
   "source": []
  },
  {
   "cell_type": "code",
   "execution_count": null,
   "metadata": {},
   "outputs": [],
   "source": []
  }
 ],
 "metadata": {
  "kernelspec": {
   "display_name": "Python 3",
   "language": "python",
   "name": "python3"
  },
  "language_info": {
   "codemirror_mode": {
    "name": "ipython",
    "version": 3
   },
   "file_extension": ".py",
   "mimetype": "text/x-python",
   "name": "python",
   "nbconvert_exporter": "python",
   "pygments_lexer": "ipython3",
   "version": "3.6.8"
  }
 },
 "nbformat": 4,
 "nbformat_minor": 2
}
